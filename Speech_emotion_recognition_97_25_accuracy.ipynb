{
  "metadata": {
    "kernelspec": {
      "language": "python",
      "display_name": "Python 3",
      "name": "python3"
    },
    "language_info": {
      "pygments_lexer": "ipython3",
      "nbconvert_exporter": "python",
      "version": "3.6.4",
      "file_extension": ".py",
      "codemirror_mode": {
        "name": "ipython",
        "version": 3
      },
      "name": "python",
      "mimetype": "text/x-python"
    },
    "colab": {
      "name": "Speech emotion recognition 97.25% accuracy",
      "provenance": []
    }
  },
  "nbformat_minor": 0,
  "nbformat": 4,
  "cells": [
    {
      "source": [
        "\n",
        "# IMPORTANT: RUN THIS CELL IN ORDER TO IMPORT YOUR KAGGLE DATA SOURCES\n",
        "# TO THE CORRECT LOCATION (/kaggle/input) IN YOUR NOTEBOOK,\n",
        "# THEN FEEL FREE TO DELETE THIS CELL.\n",
        "# NOTE: THIS NOTEBOOK ENVIRONMENT DIFFERS FROM KAGGLE'S PYTHON\n",
        "# ENVIRONMENT SO THERE MAY BE MISSING LIBRARIES USED BY YOUR\n",
        "# NOTEBOOK.\n",
        "\n",
        "import os\n",
        "import sys\n",
        "from tempfile import NamedTemporaryFile\n",
        "from urllib.request import urlopen\n",
        "from urllib.parse import unquote, urlparse\n",
        "from urllib.error import HTTPError\n",
        "from zipfile import ZipFile\n",
        "import tarfile\n",
        "import shutil\n",
        "\n",
        "CHUNK_SIZE = 40960\n",
        "DATA_SOURCE_MAPPING = 'ravdess-emotional-speech-audio:https%3A%2F%2Fstorage.googleapis.com%2Fkaggle-data-sets%2F107620%2F256618%2Fbundle%2Farchive.zip%3FX-Goog-Algorithm%3DGOOG4-RSA-SHA256%26X-Goog-Credential%3Dgcp-kaggle-com%2540kaggle-161607.iam.gserviceaccount.com%252F20240503%252Fauto%252Fstorage%252Fgoog4_request%26X-Goog-Date%3D20240503T173500Z%26X-Goog-Expires%3D259200%26X-Goog-SignedHeaders%3Dhost%26X-Goog-Signature%3D2dbe7dce93abf01e264341bdcf8120c2be2e3efbabff307ed05a936fd37f0de2158005a642d56086653146ad5a62647c9e1ad3e394fa1fa8d2c132339048fc09a60e26a6573ca5c25cd1a9f629b1838ca9412501f7a1e142628eb61bad2fea7e7299bcefc5d106a6cf456dd43e170e3607db96343769180a68bbf305cb12c7f5541cef43bbb5fd3291302db1c784cb4ae81d3db5b970b66c08b1d4b0d4c5d95f5f1bc2e5ead9776bef8f14ce3b2b6bef7080df1f556be4e2b72ffe5efd1afc08a4712bbd2990daa647dd65b725ec88d77ac97147225ea6bc763a9f022b80338f15cce0ef48cadd92b99aa184064d9f133cb379768ef02ce5b50fa526ec38dae2,toronto-emotional-speech-set-tess:https%3A%2F%2Fstorage.googleapis.com%2Fkaggle-data-sets%2F316368%2F639622%2Fbundle%2Farchive.zip%3FX-Goog-Algorithm%3DGOOG4-RSA-SHA256%26X-Goog-Credential%3Dgcp-kaggle-com%2540kaggle-161607.iam.gserviceaccount.com%252F20240503%252Fauto%252Fstorage%252Fgoog4_request%26X-Goog-Date%3D20240503T173500Z%26X-Goog-Expires%3D259200%26X-Goog-SignedHeaders%3Dhost%26X-Goog-Signature%3D5646fef7247da6fa95ab160daebd99700ca9234b1330b8139b851c9445762c3e3644c29c122bea0dc1c8acbaf55687c8053764fd5108e828e4441c13286adb6d570023f7c8d2dc2a0f005735d07c213a4d566c8a62505eeb22f80c47e269e9852048ba8172bebe8831168d089d2aa78b6e1f3d0aef315aa2f4b2d7f2f7b3622f5f15050eca07de29805dcadcd3ca76e88f6e5d1c11f1ac62b7ee7a47afadd7c37b396cf9589e3e4b62ea9f5c6fdf50bfb64d63de3b2e981d9f43dbe7db560ac7326b2a10dfaf64d16581a87c9afcc2133515d2217ccf70f6c29d24a23fadba31c837e7bda085af9ff86db062bd8565af659bc11533cc9682df17312e55d7a16f,cremad:https%3A%2F%2Fstorage.googleapis.com%2Fkaggle-data-sets%2F325566%2F653195%2Fbundle%2Farchive.zip%3FX-Goog-Algorithm%3DGOOG4-RSA-SHA256%26X-Goog-Credential%3Dgcp-kaggle-com%2540kaggle-161607.iam.gserviceaccount.com%252F20240503%252Fauto%252Fstorage%252Fgoog4_request%26X-Goog-Date%3D20240503T173500Z%26X-Goog-Expires%3D259200%26X-Goog-SignedHeaders%3Dhost%26X-Goog-Signature%3D4b18101a712291afbf92cfa150b09f975f1146d2a154abfd66795e687c760dc79342025bf2f9a8c75c580c36348f0a7fc655bacb92ec9a8c9cf4013dfe1461f77611dc4a27b8ec5bfc12d83c6d1d48bd219d472cd12a41ad0995e76bb0a4b3bec657836d78905d47238a75db7976afe7ffff161a09ad8c5a49434517b23b5727d43763e423f589c87a3627b25425731ba2adbb42b9386d4b71a6ba3424ed1215e3f68a67661d5984b45c4f0c2954bc9e1b4abc335cf14f5b122eaa35d80ab573bf65a3f8f1ae4ea05ca51cb3c57ab974b2c63710d1623022be876901998dcd466a4486e0fda3ad580219f1f95fb9d57e42f944ba4365f8eba29a81043e516bb9,surrey-audiovisual-expressed-emotion-savee:https%3A%2F%2Fstorage.googleapis.com%2Fkaggle-data-sets%2F338555%2F671851%2Fbundle%2Farchive.zip%3FX-Goog-Algorithm%3DGOOG4-RSA-SHA256%26X-Goog-Credential%3Dgcp-kaggle-com%2540kaggle-161607.iam.gserviceaccount.com%252F20240503%252Fauto%252Fstorage%252Fgoog4_request%26X-Goog-Date%3D20240503T173500Z%26X-Goog-Expires%3D259200%26X-Goog-SignedHeaders%3Dhost%26X-Goog-Signature%3D4d692399cf73bb6029e6b44b41542123c95334b95ac02fc731fa976eb1dea2dd01df58cff66961cf681aa39c8cf4b614d28da2cc483604d39691186ba7a6a493c5974ccad52b0762495a0f8fdee86ecc3d54d5d50afd9550d9b2d42e3d5f77423acdd7285c3eaebb46296d633996895f79b9d65dfddf6b9ee7fd2048c8401102d7ca20ec0994ca00485621b51c9a4b52d0f0ee2e7ca5ec3b2bab662eb87154d6772c98cb368b33d667bef40ae543e093bad18924d233cf3512ed2d4c322736275752720baa712460c994b95e8d0c890dd880cf0c12bcc2c60aeff618bd88a964fd8d3482775959e0a49eed1d726f84d849359769d7957c49b3e4dfc7c7e75254,speech-signal-features:https%3A%2F%2Fstorage.googleapis.com%2Fkaggle-data-sets%2F3468263%2F6060815%2Fbundle%2Farchive.zip%3FX-Goog-Algorithm%3DGOOG4-RSA-SHA256%26X-Goog-Credential%3Dgcp-kaggle-com%2540kaggle-161607.iam.gserviceaccount.com%252F20240503%252Fauto%252Fstorage%252Fgoog4_request%26X-Goog-Date%3D20240503T173500Z%26X-Goog-Expires%3D259200%26X-Goog-SignedHeaders%3Dhost%26X-Goog-Signature%3D40f26525db6d92b0ff88cadeeae10b2490b08d633cce0380f03e0473dca2cddd02160886f952397032c8284e5a5a8cc67163d3d5f176c9de6f200d4371113720a826ace87f2ec9038bbee056b2a3704566d65f649dcba1d4a5b8bb8d64b5005b826b6ed5fc7ca1a6881eb724729b406bd243da5eb21a6bf99e9293e2042d7c20de7ae6041bd39fff80996aa35d41ddc21cbcc0b2f104863211e29306994cdd9b4e0115979aed6a04815fdfb88de33520d21e4bea0fe6fa78824b94d8c31ac4a274a759600e813624945ce0b45f8abc86d0cb986eba5fe65146342fb5d779b64f3b15d5815604d32d9c8a0cbf3e107f88d9f915ed6ad401f788b5431f73174184'\n",
        "\n",
        "KAGGLE_INPUT_PATH='/kaggle/input'\n",
        "KAGGLE_WORKING_PATH='/kaggle/working'\n",
        "KAGGLE_SYMLINK='kaggle'\n",
        "\n",
        "!umount /kaggle/input/ 2> /dev/null\n",
        "shutil.rmtree('/kaggle/input', ignore_errors=True)\n",
        "os.makedirs(KAGGLE_INPUT_PATH, 0o777, exist_ok=True)\n",
        "os.makedirs(KAGGLE_WORKING_PATH, 0o777, exist_ok=True)\n",
        "\n",
        "try:\n",
        "  os.symlink(KAGGLE_INPUT_PATH, os.path.join(\"..\", 'input'), target_is_directory=True)\n",
        "except FileExistsError:\n",
        "  pass\n",
        "try:\n",
        "  os.symlink(KAGGLE_WORKING_PATH, os.path.join(\"..\", 'working'), target_is_directory=True)\n",
        "except FileExistsError:\n",
        "  pass\n",
        "\n",
        "for data_source_mapping in DATA_SOURCE_MAPPING.split(','):\n",
        "    directory, download_url_encoded = data_source_mapping.split(':')\n",
        "    download_url = unquote(download_url_encoded)\n",
        "    filename = urlparse(download_url).path\n",
        "    destination_path = os.path.join(KAGGLE_INPUT_PATH, directory)\n",
        "    try:\n",
        "        with urlopen(download_url) as fileres, NamedTemporaryFile() as tfile:\n",
        "            total_length = fileres.headers['content-length']\n",
        "            print(f'Downloading {directory}, {total_length} bytes compressed')\n",
        "            dl = 0\n",
        "            data = fileres.read(CHUNK_SIZE)\n",
        "            while len(data) > 0:\n",
        "                dl += len(data)\n",
        "                tfile.write(data)\n",
        "                done = int(50 * dl / int(total_length))\n",
        "                sys.stdout.write(f\"\\r[{'=' * done}{' ' * (50-done)}] {dl} bytes downloaded\")\n",
        "                sys.stdout.flush()\n",
        "                data = fileres.read(CHUNK_SIZE)\n",
        "            if filename.endswith('.zip'):\n",
        "              with ZipFile(tfile) as zfile:\n",
        "                zfile.extractall(destination_path)\n",
        "            else:\n",
        "              with tarfile.open(tfile.name) as tarfile:\n",
        "                tarfile.extractall(destination_path)\n",
        "            print(f'\\nDownloaded and uncompressed: {directory}')\n",
        "    except HTTPError as e:\n",
        "        print(f'Failed to load (likely expired) {download_url} to path {destination_path}')\n",
        "        continue\n",
        "    except OSError as e:\n",
        "        print(f'Failed to load {download_url} to path {destination_path}')\n",
        "        continue\n",
        "\n",
        "print('Data source import complete.')\n"
      ],
      "metadata": {
        "id": "hVaVOQ1fhikS"
      },
      "cell_type": "code",
      "outputs": [],
      "execution_count": null
    },
    {
      "cell_type": "code",
      "source": [
        "\n",
        "#IMPORT THE LIBRARIES\n",
        "import pandas as pd\n",
        "import numpy as np\n",
        "\n",
        "import os\n",
        "import sys\n",
        "\n",
        "# librosa is a Python library for analyzing audio and music. It can be used to extract the data from the audio files we will see it later.\n",
        "import librosa\n",
        "import librosa.display\n",
        "import seaborn as sns\n",
        "import matplotlib.pyplot as plt\n",
        "\n",
        "from sklearn.preprocessing import StandardScaler, OneHotEncoder\n",
        "from sklearn.metrics import confusion_matrix, classification_report\n",
        "from sklearn.model_selection import train_test_split\n",
        "\n",
        "# to play the audio files\n",
        "import IPython.display as ipd\n",
        "from IPython.display import Audio\n",
        "import keras\n",
        "from keras.preprocessing import sequence\n",
        "from keras.models import Sequential\n",
        "from keras.layers import Dense, Embedding\n",
        "from keras.layers import LSTM,BatchNormalization , GRU\n",
        "from keras.preprocessing.text import Tokenizer\n",
        "from keras.preprocessing.sequence import pad_sequences\n",
        "from tensorflow.keras.utils import to_categorical\n",
        "from keras.layers import Input, Flatten, Dropout, Activation\n",
        "from keras.layers import Conv1D, MaxPooling1D, AveragePooling1D\n",
        "from keras.models import Model\n",
        "from keras.callbacks import ModelCheckpoint\n",
        "from tensorflow.keras.optimizers import SGD\n",
        "\n",
        "\n",
        "\n",
        "import warnings\n",
        "if not sys.warnoptions:\n",
        "    warnings.simplefilter(\"ignore\")\n",
        "warnings.filterwarnings(\"ignore\", category=DeprecationWarning)\n",
        "import tensorflow as tf\n",
        "print (\"Done\")"
      ],
      "metadata": {
        "_uuid": "8f2839f25d086af736a60e9eeb907d3b93b6e0e5",
        "_cell_guid": "b1076dfc-b9ad-4769-8c92-a6c4dae69d19",
        "execution": {
          "iopub.status.busy": "2023-07-01T14:12:17.818677Z",
          "iopub.execute_input": "2023-07-01T14:12:17.819071Z",
          "iopub.status.idle": "2023-07-01T14:12:22.087239Z",
          "shell.execute_reply.started": "2023-07-01T14:12:17.819039Z",
          "shell.execute_reply": "2023-07-01T14:12:22.085823Z"
        },
        "trusted": true,
        "id": "1uT_2vDShikn"
      },
      "execution_count": null,
      "outputs": []
    },
    {
      "cell_type": "code",
      "source": [
        "!apt-get update\n",
        "!apt-get install -y libsndfile1"
      ],
      "metadata": {
        "trusted": true,
        "id": "8NIT8-rrhikq"
      },
      "execution_count": null,
      "outputs": []
    },
    {
      "cell_type": "markdown",
      "source": [
        "# Importing Data"
      ],
      "metadata": {
        "id": "42P4tAgFhikt"
      }
    },
    {
      "cell_type": "markdown",
      "source": [
        "                                              Ravdess Dataframe\n",
        "Here is the filename identifiers as per the official RAVDESS website:\n",
        "\n",
        "* Modality (01 = full-AV, 02 = video-only, 03 = audio-only).\n",
        "* Vocal channel (01 = speech, 02 = song).\n",
        "* Emotion (01 = neutral, 02 = calm, 03 = happy, 04 = sad, 05 = angry, 06 = fearful, 07 = disgust, 08 = surprised).\n",
        "* Emotional intensity (01 = normal, 02 = strong). NOTE: There is no strong intensity for the 'neutral' emotion.\n",
        "* Statement (01 = \"Kids are talking by the door\", 02 = \"Dogs are sitting by the door\").\n",
        "* Repetition (01 = 1st repetition, 02 = 2nd repetition).\n",
        "* Actor (01 to 24. Odd numbered actors are male, even numbered actors are female).\n",
        "\n",
        "So, here's an example of an audio filename. 02-01-06-01-02-01-12.mp4 This means the meta data for the audio file is:\n",
        "\n",
        "* Video-only (02)\n",
        "* Speech (01)\n",
        "* Fearful (06)\n",
        "* Normal intensity (01)\n",
        "* Statement \"dogs\" (02)\n",
        "* 1st Repetition (01)\n",
        "* 12th Actor (12) - Female (as the actor ID number is even)"
      ],
      "metadata": {
        "id": "oFdDULfHhikz"
      }
    },
    {
      "cell_type": "code",
      "source": [
        "#preparing data set\n",
        "\n",
        "ravdess = \"/kaggle/input/ravdess-emotional-speech-audio/audio_speech_actors_01-24/\"\n",
        "ravdess_directory_list = os.listdir(ravdess)\n",
        "print(ravdess_directory_list)"
      ],
      "metadata": {
        "trusted": true,
        "id": "nbj7kfgJhik0"
      },
      "execution_count": null,
      "outputs": []
    },
    {
      "cell_type": "code",
      "source": [
        "Crema = \"/kaggle/input/cremad/AudioWAV/\"\n",
        "Tess = \"/kaggle/input/toronto-emotional-speech-set-tess/tess toronto emotional speech set data/TESS Toronto emotional speech set data/\"\n",
        "Savee = \"/kaggle/input/surrey-audiovisual-expressed-emotion-savee/ALL/\""
      ],
      "metadata": {
        "trusted": true,
        "id": "SldMyrRAhik2"
      },
      "execution_count": null,
      "outputs": []
    },
    {
      "cell_type": "markdown",
      "source": [
        "# preprocessing"
      ],
      "metadata": {
        "id": "5nQmxdTQhik4"
      }
    },
    {
      "cell_type": "markdown",
      "source": [
        "**Ravdees**"
      ],
      "metadata": {
        "id": "PDzFcYK1hik6"
      }
    },
    {
      "cell_type": "code",
      "source": [
        "file_emotion = []\n",
        "file_path = []\n",
        "for i in ravdess_directory_list:\n",
        "    # as their are 24 different actors in our previous directory we need to extract files for each actor.\n",
        "    actor = os.listdir(ravdess + i)\n",
        "    for f in actor:\n",
        "        part = f.split('.')[0].split('-')\n",
        "    # third part in each file represents the emotion associated to that file.\n",
        "        file_emotion.append(int(part[2]))\n",
        "        file_path.append(ravdess + i + '/' + f)\n",
        ""
      ],
      "metadata": {
        "trusted": true,
        "id": "V_CJJwTvhik7"
      },
      "execution_count": null,
      "outputs": []
    },
    {
      "cell_type": "code",
      "source": [
        "print(actor[0])\n",
        "print(part[0])\n",
        "print(file_path[0])\n",
        "print(int(part[2]))\n",
        "print(f)"
      ],
      "metadata": {
        "trusted": true,
        "id": "Qq5Mv8X8hik9"
      },
      "execution_count": null,
      "outputs": []
    },
    {
      "cell_type": "code",
      "source": [
        "# dataframe for emotion of files\n",
        "emotion_df = pd.DataFrame(file_emotion, columns=['Emotions'])\n",
        "# dataframe for path of files.\n",
        "path_df = pd.DataFrame(file_path, columns=['Path'])\n",
        "ravdess_df = pd.concat([emotion_df, path_df], axis=1)\n",
        "# changing integers to actual emotions.\n",
        "ravdess_df.Emotions.replace({1:'neutral', 2:'neutral', 3:'happy', 4:'sad', 5:'angry', 6:'fear', 7:'disgust',\n",
        "                             8:'surprise'},\n",
        "                            inplace=True)\n",
        "print(ravdess_df.head())\n",
        "print(\"______________________________________________\")\n",
        "print(ravdess_df.tail())\n",
        "print(\"_______________________________________________\")\n",
        "print(ravdess_df.Emotions.value_counts())\n",
        "\n"
      ],
      "metadata": {
        "trusted": true,
        "id": "qo_scABOhik-"
      },
      "execution_count": null,
      "outputs": []
    },
    {
      "cell_type": "markdown",
      "source": [
        "**Crema DataFrame**"
      ],
      "metadata": {
        "id": "C-mn_Mufhik_"
      }
    },
    {
      "cell_type": "markdown",
      "source": [
        "CREMA-D is a data set of 7,442 original clips from 91 actors. These clips were from 48 male and 43 female actors between the ages of 20 and 74 coming from a variety of races and ethnicities (African America, Asian, Caucasian, Hispanic, and Unspecified). Actors spoke from a selection of 12 sentences. The sentences were presented using one of six different emotions (Anger, Disgust, Fear, Happy, Neutral, and Sad) and four different emotion levels (Low, Medium, High, and Unspecified)."
      ],
      "metadata": {
        "id": "nP0fOvKphilA"
      }
    },
    {
      "cell_type": "code",
      "source": [
        "crema_directory_list = os.listdir(Crema)\n",
        "\n",
        "file_emotion = []\n",
        "file_path = []\n",
        "\n",
        "for file in crema_directory_list:\n",
        "    # storing file paths\n",
        "    file_path.append(Crema + file)\n",
        "    # storing file emotions\n",
        "    part=file.split('_')\n",
        "    if part[2] == 'SAD':\n",
        "        file_emotion.append('sad')\n",
        "    elif part[2] == 'ANG':\n",
        "        file_emotion.append('angry')\n",
        "    elif part[2] == 'DIS':\n",
        "        file_emotion.append('disgust')\n",
        "    elif part[2] == 'FEA':\n",
        "        file_emotion.append('fear')\n",
        "    elif part[2] == 'HAP':\n",
        "        file_emotion.append('happy')\n",
        "    elif part[2] == 'NEU':\n",
        "        file_emotion.append('neutral')\n",
        "    else:\n",
        "        file_emotion.append('Unknown')\n",
        "\n",
        "# dataframe for emotion of files\n",
        "emotion_df = pd.DataFrame(file_emotion, columns=['Emotions'])\n",
        "\n",
        "# dataframe for path of files.\n",
        "path_df = pd.DataFrame(file_path, columns=['Path'])\n",
        "Crema_df = pd.concat([emotion_df, path_df], axis=1)\n",
        "Crema_df.head()\n",
        "print(Crema_df.Emotions.value_counts())\n"
      ],
      "metadata": {
        "trusted": true,
        "id": "UHn0OQwmhilB"
      },
      "execution_count": null,
      "outputs": []
    },
    {
      "cell_type": "markdown",
      "source": [
        "**TESS dataset**"
      ],
      "metadata": {
        "id": "z2fhGZ7ShilC"
      }
    },
    {
      "cell_type": "markdown",
      "source": [
        "There are a set of 200 target words were spoken in the carrier phrase \"Say the word _' by two actresses (aged 26 and 64 years) and recordings were made of the set portraying each of seven emotions (anger, disgust, fear, happiness, pleasant surprise, sadness, and neutral). There are 2800 data points (audio files) in total.\n",
        "\n",
        "The dataset is organised such that each of the two female actor and their emotions are contain within its own folder. And within that, all 200 target words audio file can be found. The format of the audio file is a WAV format"
      ],
      "metadata": {
        "id": "L8cQqfpfhilC"
      }
    },
    {
      "cell_type": "code",
      "source": [
        "tess_directory_list = os.listdir(Tess)\n",
        "\n",
        "file_emotion = []\n",
        "file_path = []\n",
        "\n",
        "for dir in tess_directory_list:\n",
        "    directories = os.listdir(Tess + dir)\n",
        "    for file in directories:\n",
        "        part = file.split('.')[0]\n",
        "        part = part.split('_')[2]\n",
        "        if part=='ps':\n",
        "            file_emotion.append('surprise')\n",
        "        else:\n",
        "            file_emotion.append(part)\n",
        "        file_path.append(Tess + dir + '/' + file)\n",
        "\n",
        "# dataframe for emotion of files\n",
        "emotion_df = pd.DataFrame(file_emotion, columns=['Emotions'])\n",
        "\n",
        "# dataframe for path of files.\n",
        "path_df = pd.DataFrame(file_path, columns=['Path'])\n",
        "Tess_df = pd.concat([emotion_df, path_df], axis=1)\n",
        "Tess_df.head()\n",
        "print(Tess_df.Emotions.value_counts())\n"
      ],
      "metadata": {
        "trusted": true,
        "id": "EwsUw8xchilD"
      },
      "execution_count": null,
      "outputs": []
    },
    {
      "cell_type": "markdown",
      "source": [
        "**SAVEE Dataset**"
      ],
      "metadata": {
        "id": "dzqVB76UhilH"
      }
    },
    {
      "cell_type": "markdown",
      "source": [
        "Context\n",
        "The SAVEE database was recorded from four native English male speakers (identified as DC, JE, JK, KL), postgraduate students and researchers at the University of Surrey aged from 27 to 31 years. Emotion has been described psychologically in discrete categories: anger, disgust, fear, happiness, sadness and surprise. This is supported by the cross-cultural studies of Ekman [6] and studies of automatic emotion recognition tended to focus on recognizing these [12]. We added neutral to provide recordings of 7 emotion categories. The text material consisted of 15 TIMIT sentences per emotion: 3 common, 2 emotion-specific and 10 generic sentences that were different for each emotion and phonetically-balanced. The 3 common and 2 × 6 = 12 emotion-specific sentences were recorded as neutral to give 30 neutral sentences.\n",
        "\n",
        "Content\n",
        "This results in a total of 120 utterances per speaker, for example:\n",
        "\n",
        "Common: She had your dark suit in greasy wash water all year.\n",
        "Anger: Who authorized the unlimited expense account?\n",
        "Disgust: Please take this dirty table cloth to the cleaners for me.\n",
        "Fear: Call an ambulance for medical assistance.\n",
        "Happiness: Those musicians harmonize marvelously.\n",
        "Sadness: The prospect of cutting back spending is an unpleasant one for any governor.\n",
        "Surprise: The carpet cleaners shampooed our oriental rug.\n",
        "Neutral: The best way to learn is to solve extra problems."
      ],
      "metadata": {
        "id": "wR8cQbRXhilH"
      }
    },
    {
      "cell_type": "code",
      "source": [
        "savee_directory_list = os.listdir(Savee)\n",
        "\n",
        "file_emotion = []\n",
        "file_path = []\n",
        "\n",
        "for file in savee_directory_list:\n",
        "    file_path.append(Savee + file)\n",
        "    part = file.split('_')[1]\n",
        "    ele = part[:-6]\n",
        "    if ele=='a':\n",
        "        file_emotion.append('angry')\n",
        "    elif ele=='d':\n",
        "        file_emotion.append('disgust')\n",
        "    elif ele=='f':\n",
        "        file_emotion.append('fear')\n",
        "    elif ele=='h':\n",
        "        file_emotion.append('happy')\n",
        "    elif ele=='n':\n",
        "        file_emotion.append('neutral')\n",
        "    elif ele=='sa':\n",
        "        file_emotion.append('sad')\n",
        "    else:\n",
        "        file_emotion.append('surprise')\n",
        "\n",
        "# dataframe for emotion of files\n",
        "emotion_df = pd.DataFrame(file_emotion, columns=['Emotions'])\n",
        "\n",
        "# dataframe for path of files.\n",
        "path_df = pd.DataFrame(file_path, columns=['Path'])\n",
        "Savee_df = pd.concat([emotion_df, path_df], axis=1)\n",
        "Savee_df.head()\n",
        "print(Savee_df.Emotions.value_counts())\n"
      ],
      "metadata": {
        "trusted": true,
        "id": "8gTWBAbxhilJ"
      },
      "execution_count": null,
      "outputs": []
    },
    {
      "cell_type": "markdown",
      "source": [
        "**Integration**"
      ],
      "metadata": {
        "id": "DadJWJEAhilK"
      }
    },
    {
      "cell_type": "code",
      "source": [
        "# creating Dataframe using all the 4 dataframes we created so far.\n",
        "data_path = pd.concat([ravdess_df, Crema_df, Tess_df, Savee_df], axis = 0)\n",
        "data_path.to_csv(\"data_path.csv\",index=False)\n",
        "data_path.head()"
      ],
      "metadata": {
        "trusted": true,
        "id": "L9su11uVhilK"
      },
      "execution_count": null,
      "outputs": []
    },
    {
      "cell_type": "code",
      "source": [
        "print(data_path.Emotions.value_counts())\n"
      ],
      "metadata": {
        "trusted": true,
        "id": "KPeTup-HhilL"
      },
      "execution_count": null,
      "outputs": []
    },
    {
      "cell_type": "markdown",
      "source": [
        ">*                           Data Visualisation and Exploration"
      ],
      "metadata": {
        "id": "mQi18lCmhilL"
      }
    },
    {
      "cell_type": "code",
      "source": [
        "import matplotlib.pyplot as plt\n",
        "import seaborn as sns\n",
        "\n",
        "plt.title('Count of Emotions', size=16)\n",
        "sns.countplot(data_path.Emotions)\n",
        "plt.ylabel('Count', size=12)\n",
        "plt.xlabel('Emotions', size=12)\n",
        "sns.despine(top=True, right=True, left=False, bottom=False)\n",
        "plt.show()"
      ],
      "metadata": {
        "scrolled": true,
        "trusted": true,
        "id": "uBBTrdbMhilM"
      },
      "execution_count": null,
      "outputs": []
    },
    {
      "cell_type": "code",
      "source": [
        "data,sr = librosa.load(file_path[0])\n",
        "sr"
      ],
      "metadata": {
        "trusted": true,
        "id": "VHsfmd28hilO"
      },
      "execution_count": null,
      "outputs": []
    },
    {
      "cell_type": "code",
      "source": [
        "ipd.Audio(data,rate=sr)"
      ],
      "metadata": {
        "trusted": true,
        "id": "AgK1od0chilP"
      },
      "execution_count": null,
      "outputs": []
    },
    {
      "cell_type": "code",
      "source": [
        "# CREATE LOG MEL SPECTROGRAM\n",
        "plt.figure(figsize=(10, 5))\n",
        "spectrogram = librosa.feature.melspectrogram(y=data, sr=sr, n_mels=128,fmax=8000)\n",
        "log_spectrogram = librosa.power_to_db(spectrogram)\n",
        "librosa.display.specshow(log_spectrogram, y_axis='mel', sr=sr, x_axis='time');\n",
        "plt.title('Mel Spectrogram ')\n",
        "plt.colorbar(format='%+2.0f dB')"
      ],
      "metadata": {
        "trusted": true,
        "id": "sClXblsmhilQ"
      },
      "execution_count": null,
      "outputs": []
    },
    {
      "cell_type": "code",
      "source": [
        "mfcc = librosa.feature.mfcc(y=data, sr=sr, n_mfcc=30)\n",
        "\n",
        "\n",
        "# MFCC\n",
        "plt.figure(figsize=(16, 10))\n",
        "plt.subplot(3,1,1)\n",
        "librosa.display.specshow(mfcc, x_axis='time')\n",
        "plt.ylabel('MFCC')\n",
        "plt.colorbar()\n",
        "\n",
        "ipd.Audio(data,rate=sr)"
      ],
      "metadata": {
        "trusted": true,
        "id": "R7sPomLMhilQ"
      },
      "execution_count": null,
      "outputs": []
    },
    {
      "cell_type": "markdown",
      "source": [
        "# Data augmentation"
      ],
      "metadata": {
        "id": "6Xucbc30hilR"
      }
    },
    {
      "cell_type": "code",
      "source": [
        "# NOISE\n",
        "def noise(data):\n",
        "    noise_amp = 0.035*np.random.uniform()*np.amax(data)\n",
        "    data = data + noise_amp*np.random.normal(size=data.shape[0])\n",
        "    return data\n",
        "\n",
        "# STRETCH\n",
        "def stretch(data, rate=0.8):\n",
        "    return librosa.effects.time_stretch(data, rate)\n",
        "# SHIFT\n",
        "def shift(data):\n",
        "    shift_range = int(np.random.uniform(low=-5, high = 5)*1000)\n",
        "    return np.roll(data, shift_range)\n",
        "# PITCH\n",
        "def pitch(data, sampling_rate, pitch_factor=0.7):\n",
        "    return librosa.effects.pitch_shift(data, sampling_rate, pitch_factor)"
      ],
      "metadata": {
        "trusted": true,
        "id": "6p2VPIUOhilS"
      },
      "execution_count": null,
      "outputs": []
    },
    {
      "cell_type": "code",
      "source": [
        "# NORMAL AUDIO\n",
        "\n",
        "\n",
        "import librosa.display\n",
        "plt.figure(figsize=(12, 5))\n",
        "librosa.display.waveshow(y=data, sr=sr)\n",
        "ipd.Audio(data,rate=sr)"
      ],
      "metadata": {
        "trusted": true,
        "id": "jiKFt3P8hilT"
      },
      "execution_count": null,
      "outputs": []
    },
    {
      "cell_type": "code",
      "source": [
        "# AUDIO WITH NOISE\n",
        "x = noise(data)\n",
        "plt.figure(figsize=(12,5))\n",
        "librosa.display.waveshow(y=x, sr=sr)\n",
        "ipd.Audio(x, rate=sr)"
      ],
      "metadata": {
        "trusted": true,
        "id": "QmpUbqIfhilT"
      },
      "execution_count": null,
      "outputs": []
    },
    {
      "cell_type": "code",
      "source": [
        "# STRETCHED AUDIO\n",
        "x = stretch(data)\n",
        "plt.figure(figsize=(12, 5))\n",
        "librosa.display.waveshow(y=x, sr=sr)\n",
        "ipd.Audio(x, rate=sr)"
      ],
      "metadata": {
        "trusted": true,
        "id": "AVM8f_q8hilU"
      },
      "execution_count": null,
      "outputs": []
    },
    {
      "cell_type": "code",
      "source": [
        "# SHIFTED AUDIO\n",
        "x = shift(data)\n",
        "plt.figure(figsize=(12,5))\n",
        "librosa.display.waveshow(y=x, sr=sr)\n",
        "ipd.Audio(x, rate=sr)"
      ],
      "metadata": {
        "trusted": true,
        "id": "q1r3HR7ehilV"
      },
      "execution_count": null,
      "outputs": []
    },
    {
      "cell_type": "code",
      "source": [
        "# AUDIO WITH PITCH\n",
        "x = pitch(data, sr)\n",
        "plt.figure(figsize=(12, 5))\n",
        "librosa.display.waveshow(y=x, sr=sr)\n",
        "ipd.Audio(x, rate=sr)"
      ],
      "metadata": {
        "trusted": true,
        "id": "otjsmuHmhilV"
      },
      "execution_count": null,
      "outputs": []
    },
    {
      "cell_type": "markdown",
      "source": [
        "# Feature extraction"
      ],
      "metadata": {
        "id": "PbzlFSAShilW"
      }
    },
    {
      "cell_type": "code",
      "source": [
        "def zcr(data,frame_length,hop_length):\n",
        "    zcr=librosa.feature.zero_crossing_rate(data,frame_length=frame_length,hop_length=hop_length)\n",
        "    return np.squeeze(zcr)\n",
        "def rmse(data,frame_length=2048,hop_length=512):\n",
        "    rmse=librosa.feature.rms(data,frame_length=frame_length,hop_length=hop_length)\n",
        "    return np.squeeze(rmse)\n",
        "def mfcc(data,sr,frame_length=2048,hop_length=512,flatten:bool=True):\n",
        "    mfcc=librosa.feature.mfcc(data,sr=sr)\n",
        "    return np.squeeze(mfcc.T)if not flatten else np.ravel(mfcc.T)\n",
        "\n",
        "def extract_features(data,sr=22050,frame_length=2048,hop_length=512):\n",
        "    result=np.array([])\n",
        "\n",
        "    result=np.hstack((result,\n",
        "                      zcr(data,frame_length,hop_length),\n",
        "                      rmse(data,frame_length,hop_length),\n",
        "                      mfcc(data,sr,frame_length,hop_length)\n",
        "                     ))\n",
        "    return result\n",
        "\n",
        "def get_features(path,duration=2.5, offset=0.6):\n",
        "    data,sr=librosa.load(path,duration=duration,offset=offset)\n",
        "    aud=extract_features(data)\n",
        "    audio=np.array(aud)\n",
        "\n",
        "    noised_audio=noise(data)\n",
        "    aud2=extract_features(noised_audio)\n",
        "    audio=np.vstack((audio,aud2))\n",
        "\n",
        "    pitched_audio=pitch(data,sr)\n",
        "    aud3=extract_features(pitched_audio)\n",
        "    audio=np.vstack((audio,aud3))\n",
        "\n",
        "    pitched_audio1=pitch(data,sr)\n",
        "    pitched_noised_audio=noise(pitched_audio1)\n",
        "    aud4=extract_features(pitched_noised_audio)\n",
        "    audio=np.vstack((audio,aud4))\n",
        "\n",
        "    return audio\n"
      ],
      "metadata": {
        "trusted": true,
        "id": "VweaZYJVhilW"
      },
      "execution_count": null,
      "outputs": []
    },
    {
      "cell_type": "code",
      "source": [
        "import multiprocessing as mp\n",
        "print(\"Number of processors: \", mp.cpu_count())"
      ],
      "metadata": {
        "trusted": true,
        "id": "6_j3LHUahilr"
      },
      "execution_count": null,
      "outputs": []
    },
    {
      "cell_type": "markdown",
      "source": [
        "# Noraml way to get features"
      ],
      "metadata": {
        "id": "KksBvPfDhils"
      }
    },
    {
      "cell_type": "code",
      "source": [
        "import timeit\n",
        "from tqdm import tqdm\n",
        "start = timeit.default_timer()\n",
        "X,Y=[],[]\n",
        "for path,emotion,index in tqdm (zip(data_path.Path,data_path.Emotions,range(data_path.Path.shape[0]))):\n",
        "    features=get_features(path)\n",
        "    if index%500==0:\n",
        "        print(f'{index} audio has been processed')\n",
        "    for i in features:\n",
        "        X.append(i)\n",
        "        Y.append(emotion)\n",
        "print('Done')\n",
        "stop = timeit.default_timer()\n",
        "\n",
        "print('Time: ', stop - start)"
      ],
      "metadata": {
        "trusted": true,
        "id": "phkeueJwhilt"
      },
      "execution_count": null,
      "outputs": []
    },
    {
      "cell_type": "markdown",
      "source": [
        "# Faster way to get features\n",
        "***Parallel way***\n",
        "\n",
        "**Dont be afraid from red lines that Normal**\n",
        "\n",
        "\n",
        "This code is an example of how to use the joblib library to process multiple audio files in parallel using the process_feature function. The code also uses the timeit library to measure the time taken to process the audio files.\n",
        "\n",
        "Here's a breakdown of what the code does:\n",
        "\n",
        "The from joblib import Parallel, delayed statement imports the Parallel and delayed functions from the joblib library.\n",
        "The start = timeit.default_timer() statement starts a timer to measure the time taken to process the audio files.\n",
        "The process_feature function processes a single audio file by extracting its features using the get_feat function and appending the corresponding X and Y values to the X and Y lists.\n",
        "The paths and emotions variables extract the paths and emotions from the data_path DataFrame.\n",
        "The Parallel function runs the process_feature function in parallel for each audio file using the delayed function to wrap the process_feature function.\n",
        "The results variable contains the X and Y values for each audio file.\n",
        "The X and Y lists are populated with the X and Y values from each audio file using the extend method.\n",
        "The stop = timeit.default_timer() statement stops the timer.\n",
        "The print('Time: ', stop - start) statement prints the time taken to process the audio files.\n",
        "Overall, this code demonstrates how to use the joblib library to process multiple audio files in parallel, which can significantly reduce the processing time for large datasets.This code is an example of how to use the joblib library to process multiple audio files in parallel using the process_feature function. The code also uses the timeit library to measure the time taken to process the audio files.\n",
        "\n",
        "Here's a breakdown of what the code does:\n",
        "\n",
        "The from joblib import Parallel, delayed statement imports the Parallel and delayed functions from the joblib library.\n",
        "The start = timeit.default_timer() statement starts a timer to measure the time taken to process the audio files.\n",
        "The process_feature function processes a single audio file by extracting its features using the get_feat function and appending the corresponding X and Y values to the X and Y lists.\n",
        "The paths and emotions variables extract the paths and emotions from the data_path DataFrame.\n",
        "The Parallel function runs the process_feature function in parallel for each audio file using the delayed function to wrap the process_feature function.\n",
        "The results variable contains the X and Y values for each audio file.\n",
        "The X and Y lists are populated with the X and Y values from each audio file using the extend method.\n",
        "The stop = timeit.default_timer() statement stops the timer.\n",
        "The print('Time: ', stop - start) statement prints the time taken to process the audio files.\n",
        "Overall, this code demonstrates how to use the joblib library to process multiple audio files in parallel, which can significantly reduce the processing time for large datasets."
      ],
      "metadata": {
        "id": "uDmcdYVDhilu"
      }
    },
    {
      "cell_type": "markdown",
      "source": [
        "*  The .extend() method increases the length of the list by the number of elements that are provided to the method, so if you want to add multiple elements to the list, you can use this method."
      ],
      "metadata": {
        "id": "CZ1YQlFMhilw"
      }
    },
    {
      "cell_type": "code",
      "source": [
        "\"\"\"from joblib import Parallel, delayed\n",
        "import timeit\n",
        "start = timeit.default_timer()\n",
        "# Define a function to get features for a single audio file\n",
        "def process_feature(path, emotion):\n",
        "    features = get_features(path)\n",
        "    X = []\n",
        "    Y = []\n",
        "    for ele in features:\n",
        "        X.append(ele)\n",
        "        # appending emotion 3 times as we have made 3 augmentation techniques on each audio file.\n",
        "        Y.append(emotion)\n",
        "    return X, Y\n",
        "\n",
        "paths = data_path.Path\n",
        "emotions = data_path.Emotions\n",
        "\n",
        "# Run the loop in parallel\n",
        "results = Parallel(n_jobs=-1)(delayed(process_feature)(path, emotion) for (path, emotion) in zip(paths, emotions))\n",
        "\n",
        "# Collect the results\n",
        "X = []\n",
        "Y = []\n",
        "for result in results:\n",
        "    x, y = result\n",
        "    X.extend(x)\n",
        "    Y.extend(y)\n",
        "\n",
        "\n",
        "stop = timeit.default_timer()\n",
        "\n",
        "print('Time: ', stop - start)    \"\"\""
      ],
      "metadata": {
        "trusted": true,
        "id": "U4GS08gHhilx"
      },
      "execution_count": null,
      "outputs": []
    },
    {
      "cell_type": "code",
      "source": [
        "len(X), len(Y), data_path.Path.shape\n"
      ],
      "metadata": {
        "trusted": true,
        "id": "mVsa4ullhily"
      },
      "execution_count": null,
      "outputs": []
    },
    {
      "cell_type": "markdown",
      "source": [
        "# Saving features"
      ],
      "metadata": {
        "id": "OrAc0n1Jhilz"
      }
    },
    {
      "cell_type": "code",
      "source": [
        "Emotions = pd.DataFrame(X)\n",
        "Emotions['Emotions'] = Y\n",
        "Emotions.to_csv('emotion.csv', index=False)\n",
        "Emotions.head()"
      ],
      "metadata": {
        "trusted": true,
        "id": "-QBsXW7Nhilz"
      },
      "execution_count": null,
      "outputs": []
    },
    {
      "cell_type": "code",
      "source": [
        "Emotions = pd.read_csv('./emotion.csv')\n",
        "Emotions.head()"
      ],
      "metadata": {
        "execution": {
          "iopub.status.busy": "2023-07-01T14:12:39.844437Z",
          "iopub.execute_input": "2023-07-01T14:12:39.845764Z",
          "iopub.status.idle": "2023-07-01T14:13:11.793086Z",
          "shell.execute_reply.started": "2023-07-01T14:12:39.845719Z",
          "shell.execute_reply": "2023-07-01T14:13:11.791894Z"
        },
        "trusted": true,
        "id": "AVhJ4iHJhil0"
      },
      "execution_count": null,
      "outputs": []
    },
    {
      "cell_type": "code",
      "source": [
        "print(Emotions.isna().any())\n"
      ],
      "metadata": {
        "execution": {
          "iopub.status.busy": "2023-07-01T14:13:20.478364Z",
          "iopub.execute_input": "2023-07-01T14:13:20.478782Z",
          "iopub.status.idle": "2023-07-01T14:13:20.591283Z",
          "shell.execute_reply.started": "2023-07-01T14:13:20.478748Z",
          "shell.execute_reply": "2023-07-01T14:13:20.59011Z"
        },
        "trusted": true,
        "id": "5i2i4t_zhil1"
      },
      "execution_count": null,
      "outputs": []
    },
    {
      "cell_type": "code",
      "source": [
        "Emotions=Emotions.fillna(0)\n",
        "print(Emotions.isna().any())\n",
        "Emotions.shape"
      ],
      "metadata": {
        "execution": {
          "iopub.status.busy": "2023-07-01T14:14:12.849004Z",
          "iopub.execute_input": "2023-07-01T14:14:12.849527Z",
          "iopub.status.idle": "2023-07-01T14:14:13.644166Z",
          "shell.execute_reply.started": "2023-07-01T14:14:12.849485Z",
          "shell.execute_reply": "2023-07-01T14:14:13.643133Z"
        },
        "trusted": true,
        "id": "XHAY4H1Whil2"
      },
      "execution_count": null,
      "outputs": []
    },
    {
      "cell_type": "code",
      "source": [
        "np.sum(Emotions.isna())"
      ],
      "metadata": {
        "execution": {
          "iopub.status.busy": "2023-07-01T14:15:14.791887Z",
          "iopub.execute_input": "2023-07-01T14:15:14.792542Z",
          "iopub.status.idle": "2023-07-01T14:15:15.065121Z",
          "shell.execute_reply.started": "2023-07-01T14:15:14.792504Z",
          "shell.execute_reply": "2023-07-01T14:15:15.06103Z"
        },
        "trusted": true,
        "id": "v2ImJOYahil3"
      },
      "execution_count": null,
      "outputs": []
    },
    {
      "cell_type": "markdown",
      "source": [
        "# Data preparation"
      ],
      "metadata": {
        "id": "aTFoWUZPhil4"
      }
    },
    {
      "cell_type": "code",
      "source": [
        "#taking all rows and all cols without last col for X which include features\n",
        "#taking last col for Y, which include the emotions\n",
        "\n",
        "\n",
        "X = Emotions.iloc[: ,:-1].values\n",
        "Y = Emotions['Emotions'].values"
      ],
      "metadata": {
        "execution": {
          "iopub.status.busy": "2023-07-01T14:15:24.797611Z",
          "iopub.execute_input": "2023-07-01T14:15:24.798163Z",
          "iopub.status.idle": "2023-07-01T14:15:25.07167Z",
          "shell.execute_reply.started": "2023-07-01T14:15:24.798128Z",
          "shell.execute_reply": "2023-07-01T14:15:25.07014Z"
        },
        "trusted": true,
        "id": "vYLpfCB9hil5"
      },
      "execution_count": null,
      "outputs": []
    },
    {
      "cell_type": "code",
      "source": [
        "# As this is a multiclass classification problem onehotencoding our Y\n",
        "from sklearn.preprocessing import StandardScaler, OneHotEncoder\n",
        "encoder = OneHotEncoder()\n",
        "Y = encoder.fit_transform(np.array(Y).reshape(-1,1)).toarray()\n"
      ],
      "metadata": {
        "execution": {
          "iopub.status.busy": "2023-07-01T14:15:27.982903Z",
          "iopub.execute_input": "2023-07-01T14:15:27.983302Z",
          "iopub.status.idle": "2023-07-01T14:15:28.010889Z",
          "shell.execute_reply.started": "2023-07-01T14:15:27.983269Z",
          "shell.execute_reply": "2023-07-01T14:15:28.009953Z"
        },
        "trusted": true,
        "id": "JkxTrJh-hil6"
      },
      "execution_count": null,
      "outputs": []
    },
    {
      "cell_type": "code",
      "source": [
        "print(Y.shape)\n",
        "X.shape"
      ],
      "metadata": {
        "execution": {
          "iopub.status.busy": "2023-07-01T14:15:31.349185Z",
          "iopub.execute_input": "2023-07-01T14:15:31.349601Z",
          "iopub.status.idle": "2023-07-01T14:15:31.360147Z",
          "shell.execute_reply.started": "2023-07-01T14:15:31.349544Z",
          "shell.execute_reply": "2023-07-01T14:15:31.359008Z"
        },
        "trusted": true,
        "id": "fEff29qahil7"
      },
      "execution_count": null,
      "outputs": []
    },
    {
      "cell_type": "code",
      "source": [
        "from sklearn.model_selection import train_test_split\n",
        "\n",
        "x_train, x_test, y_train, y_test = train_test_split(X, Y, random_state=42,test_size=0.2, shuffle=True)\n",
        "x_train.shape, y_train.shape, x_test.shape, y_test.shape"
      ],
      "metadata": {
        "execution": {
          "iopub.status.busy": "2023-07-01T14:15:38.349555Z",
          "iopub.execute_input": "2023-07-01T14:15:38.350324Z",
          "iopub.status.idle": "2023-07-01T14:15:39.851001Z",
          "shell.execute_reply.started": "2023-07-01T14:15:38.350288Z",
          "shell.execute_reply": "2023-07-01T14:15:39.849048Z"
        },
        "trusted": true,
        "id": "ps2zDlH9hil8"
      },
      "execution_count": null,
      "outputs": []
    },
    {
      "cell_type": "code",
      "source": [
        "#reshape for lstm\n",
        "X_train = x_train.reshape(x_train.shape[0] , x_train.shape[1] , 1)\n",
        "X_test = x_test.reshape(x_test.shape[0] , x_test.shape[1] , 1)"
      ],
      "metadata": {
        "execution": {
          "iopub.status.busy": "2023-07-01T14:15:50.558408Z",
          "iopub.execute_input": "2023-07-01T14:15:50.559638Z",
          "iopub.status.idle": "2023-07-01T14:15:50.566028Z",
          "shell.execute_reply.started": "2023-07-01T14:15:50.559554Z",
          "shell.execute_reply": "2023-07-01T14:15:50.56481Z"
        },
        "trusted": true,
        "id": "veNZ9iA9hil9"
      },
      "execution_count": null,
      "outputs": []
    },
    {
      "cell_type": "code",
      "source": [
        "# scaling our data with sklearn's Standard scaler\n",
        "scaler = StandardScaler()\n",
        "x_train = scaler.fit_transform(x_train)\n",
        "x_test = scaler.transform(x_test)\n",
        "x_train.shape, y_train.shape, x_test.shape, y_test.shape"
      ],
      "metadata": {
        "execution": {
          "iopub.status.busy": "2023-07-01T14:15:54.922397Z",
          "iopub.execute_input": "2023-07-01T14:15:54.922899Z",
          "iopub.status.idle": "2023-07-01T14:15:56.412083Z",
          "shell.execute_reply.started": "2023-07-01T14:15:54.922861Z",
          "shell.execute_reply": "2023-07-01T14:15:56.410934Z"
        },
        "trusted": true,
        "id": "U-1vlYSJhil_"
      },
      "execution_count": null,
      "outputs": []
    },
    {
      "cell_type": "code",
      "source": [
        "import keras\n",
        "from keras.preprocessing import sequence\n",
        "from keras.models import Sequential\n",
        "from keras.layers import Dense, Embedding\n",
        "from keras.layers import LSTM,BatchNormalization , GRU\n",
        "from keras.preprocessing.text import Tokenizer\n",
        "from keras.preprocessing.sequence import pad_sequences\n",
        "from tensorflow.keras.utils import to_categorical\n",
        "from keras.layers import Input, Flatten, Dropout, Activation\n",
        "from keras.layers import Conv1D, MaxPooling1D, AveragePooling1D\n",
        "from keras.models import Model\n",
        "from keras.callbacks import ModelCheckpoint\n",
        "from tensorflow.keras.optimizers import SGD"
      ],
      "metadata": {
        "execution": {
          "iopub.status.busy": "2023-07-01T14:15:58.194656Z",
          "iopub.execute_input": "2023-07-01T14:15:58.195057Z",
          "iopub.status.idle": "2023-07-01T14:15:58.203537Z",
          "shell.execute_reply.started": "2023-07-01T14:15:58.195024Z",
          "shell.execute_reply": "2023-07-01T14:15:58.202326Z"
        },
        "trusted": true,
        "id": "mnAPpR4ghimA"
      },
      "execution_count": null,
      "outputs": []
    },
    {
      "cell_type": "markdown",
      "source": [
        "> Applying early stopping for all models\n"
      ],
      "metadata": {
        "id": "nYjh8PyZhimB"
      }
    },
    {
      "cell_type": "code",
      "source": [
        "from keras.callbacks import ModelCheckpoint, EarlyStopping,ReduceLROnPlateau\n",
        "model_checkpoint = ModelCheckpoint('best_model1_weights.h5', monitor='val_accuracy', save_best_only=True)"
      ],
      "metadata": {
        "execution": {
          "iopub.status.busy": "2023-07-01T15:29:27.391353Z",
          "iopub.execute_input": "2023-07-01T15:29:27.39179Z",
          "iopub.status.idle": "2023-07-01T15:29:27.397433Z",
          "shell.execute_reply.started": "2023-07-01T15:29:27.391755Z",
          "shell.execute_reply": "2023-07-01T15:29:27.396158Z"
        },
        "trusted": true,
        "id": "_Fs6xgYYhimC"
      },
      "execution_count": null,
      "outputs": []
    },
    {
      "cell_type": "code",
      "source": [
        "\n",
        "early_stop=EarlyStopping(monitor='val_acc',mode='auto',patience=5,restore_best_weights=True)\n",
        "lr_reduction=ReduceLROnPlateau(monitor='val_acc',patience=3,verbose=1,factor=0.5,min_lr=0.00001)"
      ],
      "metadata": {
        "execution": {
          "iopub.status.busy": "2023-07-01T15:29:29.544486Z",
          "iopub.execute_input": "2023-07-01T15:29:29.545573Z",
          "iopub.status.idle": "2023-07-01T15:29:29.551708Z",
          "shell.execute_reply.started": "2023-07-01T15:29:29.545519Z",
          "shell.execute_reply": "2023-07-01T15:29:29.550469Z"
        },
        "trusted": true,
        "id": "wmnSLIXJhimD"
      },
      "execution_count": null,
      "outputs": []
    },
    {
      "cell_type": "markdown",
      "source": [
        "# LSTM Model"
      ],
      "metadata": {
        "id": "YCM3iYjOhimE"
      }
    },
    {
      "cell_type": "markdown",
      "source": [
        "Model that have lstm layers take alot of time if you have much free time enjoy with it"
      ],
      "metadata": {
        "id": "6_yPQjiXhimF"
      }
    },
    {
      "cell_type": "code",
      "source": [
        "\"\"\"model01=Sequential()\n",
        "model01.add(LSTM(128,return_sequences=True,input_shape=(x_train.shape[1],1)))\n",
        "model01.add(Dropout(0.2))\n",
        "model01.add(LSTM(128,return_sequences=True))\n",
        "#model01.add(Dropout(0.2))\n",
        "model01.add(LSTM(128,return_sequences=True))\n",
        "#model01.add(Dropout(0.2))\n",
        "model01.add(LSTM(128,return_sequences=True))\n",
        "#model01.add(Dropout(0.2))\n",
        "model01.add(LSTM(128,return_sequences=True))\n",
        "#model01.add(Dropout(0.2))\n",
        "model01.add(LSTM(128,return_sequences=True))\n",
        "#model01.add(Dropout(0.3))\n",
        "model01.add(LSTM(128))\n",
        "#model01.add(Dropout(0.3))\n",
        "model01.add(Dense(7,activation = 'softmax'))\n",
        "model01.compile(loss='categorical_crossentropy',optimizer='adam',metrics=['accuracy'])\n",
        "model01.summary()\"\"\""
      ],
      "metadata": {
        "execution": {
          "iopub.status.busy": "2023-07-01T14:16:07.243845Z",
          "iopub.execute_input": "2023-07-01T14:16:07.244247Z",
          "iopub.status.idle": "2023-07-01T14:16:09.948738Z",
          "shell.execute_reply.started": "2023-07-01T14:16:07.244214Z",
          "shell.execute_reply": "2023-07-01T14:16:09.947551Z"
        },
        "trusted": true,
        "id": "UjdMPKsshimF"
      },
      "execution_count": null,
      "outputs": []
    },
    {
      "cell_type": "code",
      "source": [
        "\"\"\"hist=model01.fit(X_train, y_train,\n",
        "            epochs=20,\n",
        "            validation_data=(X_test, y_test),batch_size=64,\n",
        "            verbose=1)\"\"\""
      ],
      "metadata": {
        "execution": {
          "iopub.status.busy": "2023-07-01T14:16:13.027466Z",
          "iopub.execute_input": "2023-07-01T14:16:13.028541Z",
          "iopub.status.idle": "2023-07-01T14:16:34.727976Z",
          "shell.execute_reply.started": "2023-07-01T14:16:13.028502Z",
          "shell.execute_reply": "2023-07-01T14:16:34.726504Z"
        },
        "trusted": true,
        "id": "B4yRJ67_himG"
      },
      "execution_count": null,
      "outputs": []
    },
    {
      "cell_type": "code",
      "source": [
        "\"\"\"print(\"Accuracy of our model on test data : \" , model01.evaluate(X_test,y_test)[1]*100 , \"%\")\n",
        "epochs = [i for i in range(20)]\n",
        "fig , ax = plt.subplots(1,2)\n",
        "train_acc = hist.history['accuracy']\n",
        "train_loss = hist.history['loss']\n",
        "test_acc = hist.history['val_accuracy']\n",
        "test_loss = hist.history['val_loss']\n",
        "\n",
        "fig.set_size_inches(20,6)\n",
        "ax[0].plot(epochs , train_loss , label = 'Training Loss')\n",
        "ax[0].plot(epochs , test_loss , label = 'Testing Loss')\n",
        "ax[0].set_title('Training & Testing Loss')\n",
        "ax[0].legend()\n",
        "ax[0].set_xlabel(\"Epochs\")\n",
        "\n",
        "ax[1].plot(epochs , train_acc , label = 'Training Accuracy')\n",
        "ax[1].plot(epochs , test_acc , label = 'Testing Accuracy')\n",
        "ax[1].set_title('Training & Testing Accuracy')\n",
        "ax[1].legend()\n",
        "ax[1].set_xlabel(\"Epochs\")\n",
        "plt.show()\"\"\""
      ],
      "metadata": {
        "trusted": true,
        "id": "QKTXxP9ShimH"
      },
      "execution_count": null,
      "outputs": []
    },
    {
      "cell_type": "markdown",
      "source": [
        "# CNN model"
      ],
      "metadata": {
        "id": "nXfuXoh-himJ"
      }
    },
    {
      "cell_type": "code",
      "source": [
        "#Reshape for CNN_LSTM MODEL\n",
        "\n",
        "x_traincnn =np.expand_dims(x_train, axis=2)\n",
        "x_testcnn= np.expand_dims(x_test, axis=2)\n",
        "x_traincnn.shape, y_train.shape, x_testcnn.shape, y_test.shape\n",
        "#x_testcnn[0]"
      ],
      "metadata": {
        "execution": {
          "iopub.status.busy": "2023-07-01T14:16:39.773793Z",
          "iopub.execute_input": "2023-07-01T14:16:39.774859Z",
          "iopub.status.idle": "2023-07-01T14:16:39.783285Z",
          "shell.execute_reply.started": "2023-07-01T14:16:39.77481Z",
          "shell.execute_reply": "2023-07-01T14:16:39.782276Z"
        },
        "trusted": true,
        "id": "DlsmM08bhimJ"
      },
      "execution_count": null,
      "outputs": []
    },
    {
      "cell_type": "code",
      "source": [
        "import tensorflow.keras.layers as L\n",
        "\n",
        "model = tf.keras.Sequential([\n",
        "    L.Conv1D(512,kernel_size=5, strides=1,padding='same', activation='relu',input_shape=(X_train.shape[1],1)),\n",
        "    L.BatchNormalization(),\n",
        "    L.MaxPool1D(pool_size=5,strides=2,padding='same'),\n",
        "\n",
        "    L.Conv1D(512,kernel_size=5,strides=1,padding='same',activation='relu'),\n",
        "    L.BatchNormalization(),\n",
        "    L.MaxPool1D(pool_size=5,strides=2,padding='same'),\n",
        "    Dropout(0.2),  # Add dropout layer after the second max pooling layer\n",
        "\n",
        "    L.Conv1D(256,kernel_size=5,strides=1,padding='same',activation='relu'),\n",
        "    L.BatchNormalization(),\n",
        "    L.MaxPool1D(pool_size=5,strides=2,padding='same'),\n",
        "\n",
        "    L.Conv1D(256,kernel_size=3,strides=1,padding='same',activation='relu'),\n",
        "    L.BatchNormalization(),\n",
        "    L.MaxPool1D(pool_size=5,strides=2,padding='same'),\n",
        "    Dropout(0.2),  # Add dropout layer after the fourth max pooling layer\n",
        "\n",
        "    L.Conv1D(128,kernel_size=3,strides=1,padding='same',activation='relu'),\n",
        "    L.BatchNormalization(),\n",
        "    L.MaxPool1D(pool_size=3,strides=2,padding='same'),\n",
        "    Dropout(0.2),  # Add dropout layer after the fifth max pooling layer\n",
        "\n",
        "    L.Flatten(),\n",
        "    L.Dense(512,activation='relu'),\n",
        "    L.BatchNormalization(),\n",
        "    L.Dense(7,activation='softmax')\n",
        "])\n",
        "model.compile(optimizer='adam',loss='categorical_crossentropy',metrics='accuracy')\n",
        "model.summary()"
      ],
      "metadata": {
        "execution": {
          "iopub.status.busy": "2023-07-01T15:32:14.956885Z",
          "iopub.execute_input": "2023-07-01T15:32:14.957331Z",
          "iopub.status.idle": "2023-07-01T15:32:15.16189Z",
          "shell.execute_reply.started": "2023-07-01T15:32:14.957295Z",
          "shell.execute_reply": "2023-07-01T15:32:15.160802Z"
        },
        "trusted": true,
        "id": "dpBSHGcyhimK"
      },
      "execution_count": null,
      "outputs": []
    },
    {
      "cell_type": "code",
      "source": [
        "history=model.fit(x_traincnn, y_train, epochs=50, validation_data=(x_testcnn, y_test), batch_size=64,callbacks=[early_stop,lr_reduction,model_checkpoint])"
      ],
      "metadata": {
        "execution": {
          "iopub.status.busy": "2023-07-01T15:32:35.07213Z",
          "iopub.execute_input": "2023-07-01T15:32:35.072523Z",
          "iopub.status.idle": "2023-07-01T17:27:18.409989Z",
          "shell.execute_reply.started": "2023-07-01T15:32:35.072489Z",
          "shell.execute_reply": "2023-07-01T17:27:18.408827Z"
        },
        "trusted": true,
        "id": "b6djGDiQhimM"
      },
      "execution_count": null,
      "outputs": []
    },
    {
      "cell_type": "code",
      "source": [
        "print(\"Accuracy of our model on test data : \" , model.evaluate(x_testcnn,y_test)[1]*100 , \"%\")\n",
        "\n",
        "epochs = [i for i in range(50)]\n",
        "fig , ax = plt.subplots(1,2)\n",
        "train_acc = history.history['accuracy']\n",
        "train_loss = history.history['loss']\n",
        "test_acc = history.history['val_accuracy']\n",
        "test_loss = history.history['val_loss']\n",
        "\n",
        "fig.set_size_inches(20,6)\n",
        "ax[0].plot(epochs , train_loss , label = 'Training Loss')\n",
        "ax[0].plot(epochs , test_loss , label = 'Testing Loss')\n",
        "ax[0].set_title('Training & Testing Loss')\n",
        "ax[0].legend()\n",
        "ax[0].set_xlabel(\"Epochs\")\n",
        "\n",
        "ax[1].plot(epochs , train_acc , label = 'Training Accuracy')\n",
        "ax[1].plot(epochs , test_acc , label = 'Testing Accuracy')\n",
        "ax[1].set_title('Training & Testing Accuracy')\n",
        "ax[1].legend()\n",
        "ax[1].set_xlabel(\"Epochs\")\n",
        "plt.show()"
      ],
      "metadata": {
        "execution": {
          "iopub.status.busy": "2023-07-01T17:28:04.121872Z",
          "iopub.execute_input": "2023-07-01T17:28:04.122599Z",
          "iopub.status.idle": "2023-07-01T17:28:12.073531Z",
          "shell.execute_reply.started": "2023-07-01T17:28:04.122537Z",
          "shell.execute_reply": "2023-07-01T17:28:12.072495Z"
        },
        "trusted": true,
        "id": "nuG4slC3himN"
      },
      "execution_count": null,
      "outputs": []
    },
    {
      "cell_type": "code",
      "source": [
        "# predicting on test data.\n",
        "pred_test0 = model.predict(x_testcnn)\n",
        "y_pred0 = encoder.inverse_transform(pred_test0)\n",
        "y_test0 = encoder.inverse_transform(y_test)\n",
        "\n",
        "# Check for random predictions\n",
        "df0 = pd.DataFrame(columns=['Predicted Labels', 'Actual Labels'])\n",
        "df0['Predicted Labels'] = y_pred0.flatten()\n",
        "df0['Actual Labels'] = y_test0.flatten()\n",
        "\n",
        "df0.head(10)"
      ],
      "metadata": {
        "execution": {
          "iopub.status.busy": "2023-07-01T17:30:51.042829Z",
          "iopub.execute_input": "2023-07-01T17:30:51.043307Z",
          "iopub.status.idle": "2023-07-01T17:30:57.844806Z",
          "shell.execute_reply.started": "2023-07-01T17:30:51.043272Z",
          "shell.execute_reply": "2023-07-01T17:30:57.843606Z"
        },
        "trusted": true,
        "id": "UzmL85B3himP"
      },
      "execution_count": null,
      "outputs": []
    },
    {
      "cell_type": "code",
      "source": [
        "df0"
      ],
      "metadata": {
        "execution": {
          "iopub.status.busy": "2023-07-01T17:31:10.1825Z",
          "iopub.execute_input": "2023-07-01T17:31:10.18291Z",
          "iopub.status.idle": "2023-07-01T17:31:10.198159Z",
          "shell.execute_reply.started": "2023-07-01T17:31:10.182878Z",
          "shell.execute_reply": "2023-07-01T17:31:10.1971Z"
        },
        "trusted": true,
        "id": "Gv3fiGRqhimQ"
      },
      "execution_count": null,
      "outputs": []
    },
    {
      "cell_type": "markdown",
      "source": [
        "Some plots of multi_model\n",
        "______________________________________________\n"
      ],
      "metadata": {
        "id": "GH_v25cKhimS"
      }
    },
    {
      "cell_type": "markdown",
      "source": [
        "# CLSTM Model"
      ],
      "metadata": {
        "id": "Zr8fmnKMhimT"
      }
    },
    {
      "cell_type": "markdown",
      "source": [
        "Model that have lstm layers take alot of time if you have much free time enjoy with it"
      ],
      "metadata": {
        "id": "LD_KsNqLhimU"
      }
    },
    {
      "cell_type": "markdown",
      "source": [
        "Another  model (CLSTM)  omnia model\n",
        "_____________________________________________________"
      ],
      "metadata": {
        "id": "gFfx3xvvhimV"
      }
    },
    {
      "cell_type": "code",
      "source": [
        "#Build the model\n",
        "\n",
        "# define model\n",
        "\"\"\"model000 = Sequential()\n",
        "model000.add(Conv1D(1024, kernel_size=5, strides=1, padding='same', activation='relu', input_shape=(X.shape[1], 1)))\n",
        "model000.add(MaxPooling1D(pool_size=2, strides = 2, padding = 'same'))\n",
        "model000.add(BatchNormalization())\n",
        "model000.add(Dropout(0.3))\n",
        "\n",
        "\n",
        "model000.add(Conv1D(512, kernel_size=5, strides=1, padding='same', activation='relu'))\n",
        "model000.add(MaxPooling1D(pool_size=2, strides = 2, padding = 'same'))\n",
        "model000.add(BatchNormalization())\n",
        "model000.add(Dropout(0.3))\n",
        "\n",
        "model000.add(Conv1D(256, kernel_size=5, strides=1, padding='same', activation='relu'))\n",
        "model000.add(MaxPooling1D(pool_size=2, strides = 2, padding = 'same'))\n",
        "model000.add(BatchNormalization())\n",
        "model000.add(Dropout(0.3))\n",
        "\n",
        "model000.add(LSTM(128, return_sequences=True))\n",
        "model000.add(Dropout(0.3))\n",
        "\n",
        "model000.add(LSTM(128, return_sequences=True))\n",
        "model000.add(Dropout(0.3))\n",
        "model000.add(LSTM(128))\n",
        "model000.add(Dropout(0.3))\n",
        "\n",
        "model000.add(Dense(128, activation='relu'))\n",
        "#model000.add(Dropout(0.3))\n",
        "\n",
        "model000.add(Dense(64, activation='relu'))\n",
        "#model000.add(Dropout(0.3))\n",
        "\n",
        "model000.add(Dense(32, activation='relu'))\n",
        "#model000.add(Dropout(0.3))\n",
        "\n",
        "model000.add(Dense(7, activation='softmax'))\n",
        "\n",
        "\n",
        "\n",
        "model000.summary()\"\"\""
      ],
      "metadata": {
        "trusted": true,
        "id": "wuy58YTUhimW"
      },
      "execution_count": null,
      "outputs": []
    },
    {
      "cell_type": "code",
      "source": [
        "\"\"\"from keras.utils.vis_utils import plot_model\n",
        "plot_model( model000, show_shapes=True, show_layer_names=True, to_file='model000.png')\"\"\""
      ],
      "metadata": {
        "trusted": true,
        "id": "NpS6lowGhimX"
      },
      "execution_count": null,
      "outputs": []
    },
    {
      "cell_type": "code",
      "source": [
        "\"\"\"model000.compile(loss='categorical_crossentropy', optimizer='adam', metrics=['accuracy'])\"\"\""
      ],
      "metadata": {
        "trusted": true,
        "id": "nILyBFomhimZ"
      },
      "execution_count": null,
      "outputs": []
    },
    {
      "cell_type": "code",
      "source": [
        "\"\"\"hist1=model000.fit(x_traincnn, y_train, batch_size=64, epochs=40, validation_data=(x_testcnn, y_test))\"\"\""
      ],
      "metadata": {
        "trusted": true,
        "id": "4cbTIQ9Thima"
      },
      "execution_count": null,
      "outputs": []
    },
    {
      "cell_type": "code",
      "source": [
        "\"\"\"print(\"Accuracy of our model on test data : \" , model000.evaluate(x_testcnn,y_test)[1]*100 , \"%\")\n",
        "epochs = [i for i in range(40)]\n",
        "fig , ax = plt.subplots(1,2)\n",
        "train_acc = hist1.history['accuracy']\n",
        "train_loss = hist1.history['loss']\n",
        "test_acc = hist1.history['val_accuracy']\n",
        "test_loss = hist1.history['val_loss']\n",
        "\n",
        "fig.set_size_inches(20,6)\n",
        "ax[0].plot(epochs , train_loss , label = 'Training Loss')\n",
        "ax[0].plot(epochs , test_loss , label = 'Testing Loss')\n",
        "ax[0].set_title('Training & Testing Loss')\n",
        "ax[0].legend()\n",
        "ax[0].set_xlabel(\"Epochs\")\n",
        "\n",
        "ax[1].plot(epochs , train_acc , label = 'Training Accuracy')\n",
        "ax[1].plot(epochs , test_acc , label = 'Testing Accuracy')\n",
        "ax[1].set_title('Training & Testing Accuracy')\n",
        "ax[1].legend()\n",
        "ax[1].set_xlabel(\"Epochs\")\n",
        "plt.show()\"\"\""
      ],
      "metadata": {
        "trusted": true,
        "id": "-OaPYeamhimb"
      },
      "execution_count": null,
      "outputs": []
    },
    {
      "cell_type": "code",
      "source": [
        "# predicting on test data.\n",
        "\"\"\"pred_test00 = model000.predict(x_testcnn)\n",
        "y_pred00 = encoder.inverse_transform(pred_test)\n",
        "y_test00 = encoder.inverse_transform(y_test)\n",
        "\n",
        "# Check for random predictions\n",
        "df0 = pd.DataFrame(columns=['Predicted Labels', 'Actual Labels'])\n",
        "df0['Predicted Labels'] = y_pred00.flatten()\n",
        "df0['Actual Labels'] = y_test00.flatten()\n",
        "\n",
        "df0.head(10)\"\"\""
      ],
      "metadata": {
        "trusted": true,
        "id": "8H8JVXsdhimc"
      },
      "execution_count": null,
      "outputs": []
    },
    {
      "cell_type": "markdown",
      "source": [
        "# Evalutation"
      ],
      "metadata": {
        "id": "n1A6sW3Whimd"
      }
    },
    {
      "cell_type": "markdown",
      "source": [
        "Results of best model"
      ],
      "metadata": {
        "id": "s15i5QUIhime"
      }
    },
    {
      "cell_type": "code",
      "source": [
        "from sklearn.metrics import confusion_matrix,classification_report\n",
        "cm = confusion_matrix(y_test0, y_pred0)\n",
        "plt.figure(figsize = (12, 10))\n",
        "cm = pd.DataFrame(cm , index = [i for i in encoder.categories_] , columns = [i for i in encoder.categories_])\n",
        "#cm = cm.astype('float') / cm.sum(axis=1)[:, np.newaxis]\n",
        "sns.heatmap(cm, linecolor='white', cmap='Blues', linewidth=1, annot=True, fmt='.2f')\n",
        "plt.title('Confusion Matrix', size=20)\n",
        "plt.xlabel('Predicted Labels', size=14)\n",
        "plt.ylabel('Actual Labels', size=14)\n",
        "plt.show()\n",
        "print(classification_report(y_test0, y_pred0))"
      ],
      "metadata": {
        "execution": {
          "iopub.status.busy": "2023-07-01T17:31:55.291417Z",
          "iopub.execute_input": "2023-07-01T17:31:55.292233Z",
          "iopub.status.idle": "2023-07-01T17:31:56.273819Z",
          "shell.execute_reply.started": "2023-07-01T17:31:55.292193Z",
          "shell.execute_reply": "2023-07-01T17:31:56.272713Z"
        },
        "trusted": true,
        "id": "-kPx9Xthhimf"
      },
      "execution_count": null,
      "outputs": []
    },
    {
      "cell_type": "markdown",
      "source": [
        "# Saving Best Model"
      ],
      "metadata": {
        "id": "Y2UYBnS0himg"
      }
    },
    {
      "cell_type": "code",
      "source": [
        "# MLP for Pima Indians Dataset Serialize to JSON and HDF5\n",
        "from tensorflow.keras.models import Sequential, model_from_json\n",
        "model_json = model.to_json()\n",
        "with open(\"CNN_model.json\", \"w\") as json_file:\n",
        "    json_file.write(model_json)\n",
        "# serialize weights to HDF5\n",
        "model.save_weights(\"CNN_model_weights.h5\")\n",
        "print(\"Saved model to disk\")"
      ],
      "metadata": {
        "execution": {
          "iopub.status.busy": "2023-07-01T17:33:01.344471Z",
          "iopub.execute_input": "2023-07-01T17:33:01.345546Z",
          "iopub.status.idle": "2023-07-01T17:33:01.428663Z",
          "shell.execute_reply.started": "2023-07-01T17:33:01.345505Z",
          "shell.execute_reply": "2023-07-01T17:33:01.427516Z"
        },
        "trusted": true,
        "id": "e8WpEXpJhimh"
      },
      "execution_count": null,
      "outputs": []
    },
    {
      "cell_type": "code",
      "source": [
        "from tensorflow.keras.models import Sequential, model_from_json\n",
        "json_file = open('/kaggle/working/CNN_model.json', 'r')\n",
        "loaded_model_json = json_file.read()\n",
        "json_file.close()\n",
        "loaded_model = model_from_json(loaded_model_json)\n",
        "# load weights into new model\n",
        "loaded_model.load_weights(\"/kaggle/working/best_model1_weights.h5\")\n",
        "print(\"Loaded model from disk\")"
      ],
      "metadata": {
        "execution": {
          "iopub.status.busy": "2023-07-01T17:35:04.565263Z",
          "iopub.execute_input": "2023-07-01T17:35:04.565702Z",
          "iopub.status.idle": "2023-07-01T17:35:04.81046Z",
          "shell.execute_reply.started": "2023-07-01T17:35:04.565666Z",
          "shell.execute_reply": "2023-07-01T17:35:04.809402Z"
        },
        "trusted": true,
        "id": "ADf03j-7himi"
      },
      "execution_count": null,
      "outputs": []
    },
    {
      "cell_type": "code",
      "source": [
        "loaded_model.compile(optimizer='adam', loss='categorical_crossentropy', metrics=['accuracy'])\n",
        "score = loaded_model.evaluate(x_testcnn,y_test)\n",
        "print(\"%s: %.2f%%\" % (loaded_model.metrics_names[1], score[1]*100))"
      ],
      "metadata": {
        "execution": {
          "iopub.status.busy": "2023-07-01T17:35:07.554719Z",
          "iopub.execute_input": "2023-07-01T17:35:07.555111Z",
          "iopub.status.idle": "2023-07-01T17:35:18.491122Z",
          "shell.execute_reply.started": "2023-07-01T17:35:07.555077Z",
          "shell.execute_reply": "2023-07-01T17:35:18.489805Z"
        },
        "trusted": true,
        "id": "83cNq4o2himj"
      },
      "execution_count": null,
      "outputs": []
    },
    {
      "cell_type": "markdown",
      "source": [
        "# Saving and Loading our Stnadrad Scaler and encoder\n",
        "* To save the StandardScaler object to use it later in a Flask API"
      ],
      "metadata": {
        "id": "bxltPQVShimj"
      }
    },
    {
      "cell_type": "markdown",
      "source": [
        "pickle file\n"
      ],
      "metadata": {
        "id": "hidbsbmChimk"
      }
    },
    {
      "cell_type": "code",
      "source": [
        "import pickle\n",
        "\n",
        "# Saving scaler\n",
        "with open('scaler2.pickle', 'wb') as f:\n",
        "    pickle.dump(scaler, f)\n",
        "\n",
        "# Loading scaler\n",
        "with open('scaler2.pickle', 'rb') as f:\n",
        "    scaler2 = pickle.load(f)\n",
        "\n",
        "# Saving encoder\n",
        "with open('encoder2.pickle', 'wb') as f:\n",
        "    pickle.dump(encoder, f)\n",
        "\n",
        "# Loading encoder\n",
        "with open('encoder2.pickle', 'rb') as f:\n",
        "    encoder2 = pickle.load(f)\n",
        "\n",
        "\n",
        "print(\"Done\")"
      ],
      "metadata": {
        "execution": {
          "iopub.status.busy": "2023-07-01T17:36:13.510622Z",
          "iopub.execute_input": "2023-07-01T17:36:13.511327Z",
          "iopub.status.idle": "2023-07-01T17:36:13.521214Z",
          "shell.execute_reply.started": "2023-07-01T17:36:13.511288Z",
          "shell.execute_reply": "2023-07-01T17:36:13.52008Z"
        },
        "trusted": true,
        "id": "ODuL1gtrhiml"
      },
      "execution_count": null,
      "outputs": []
    },
    {
      "cell_type": "markdown",
      "source": [
        "# Test script\n",
        "* That can predict new record"
      ],
      "metadata": {
        "id": "HPdwRt4hhimm"
      }
    },
    {
      "cell_type": "code",
      "source": [
        "from tensorflow.keras.models import Sequential, model_from_json\n",
        "json_file = open('/kaggle/working/CNN_model.json', 'r')\n",
        "loaded_model_json = json_file.read()\n",
        "json_file.close()\n",
        "loaded_model = model_from_json(loaded_model_json)\n",
        "# load weights into new model\n",
        "loaded_model.load_weights(\"/kaggle/working/best_model1_weights.h5\")\n",
        "print(\"Loaded model from disk\")"
      ],
      "metadata": {
        "execution": {
          "iopub.status.busy": "2023-07-01T17:38:54.867978Z",
          "iopub.execute_input": "2023-07-01T17:38:54.868425Z",
          "iopub.status.idle": "2023-07-01T17:38:55.10981Z",
          "shell.execute_reply.started": "2023-07-01T17:38:54.868391Z",
          "shell.execute_reply": "2023-07-01T17:38:55.10878Z"
        },
        "trusted": true,
        "id": "-iTlZIbUhimm"
      },
      "execution_count": null,
      "outputs": []
    },
    {
      "cell_type": "code",
      "source": [
        "import pickle\n",
        "\n",
        "with open('/kaggle/working/scaler2.pickle', 'rb') as f:\n",
        "    scaler2 = pickle.load(f)\n",
        "\n",
        "with open('/kaggle/working/encoder2.pickle', 'rb') as f:\n",
        "    encoder2 = pickle.load(f)\n",
        "\n",
        "\n",
        "print(\"Done\")"
      ],
      "metadata": {
        "execution": {
          "iopub.status.busy": "2023-07-01T17:39:16.28933Z",
          "iopub.execute_input": "2023-07-01T17:39:16.289749Z",
          "iopub.status.idle": "2023-07-01T17:39:16.297504Z",
          "shell.execute_reply.started": "2023-07-01T17:39:16.289715Z",
          "shell.execute_reply": "2023-07-01T17:39:16.296484Z"
        },
        "trusted": true,
        "id": "aHM63Q6Ihimn"
      },
      "execution_count": null,
      "outputs": []
    },
    {
      "cell_type": "code",
      "source": [
        "import librosa"
      ],
      "metadata": {
        "execution": {
          "iopub.status.busy": "2023-07-01T17:39:19.313258Z",
          "iopub.execute_input": "2023-07-01T17:39:19.313678Z",
          "iopub.status.idle": "2023-07-01T17:39:19.318718Z",
          "shell.execute_reply.started": "2023-07-01T17:39:19.313644Z",
          "shell.execute_reply": "2023-07-01T17:39:19.317546Z"
        },
        "trusted": true,
        "id": "KcodrjvIhimo"
      },
      "execution_count": null,
      "outputs": []
    },
    {
      "cell_type": "code",
      "source": [
        "def zcr(data,frame_length,hop_length):\n",
        "    zcr=librosa.feature.zero_crossing_rate(data,frame_length=frame_length,hop_length=hop_length)\n",
        "    return np.squeeze(zcr)\n",
        "def rmse(data,frame_length=2048,hop_length=512):\n",
        "    rmse=librosa.feature.rms(data,frame_length=frame_length,hop_length=hop_length)\n",
        "    return np.squeeze(rmse)\n",
        "def mfcc(data,sr,frame_length=2048,hop_length=512,flatten:bool=True):\n",
        "    mfcc=librosa.feature.mfcc(data,sr=sr)\n",
        "    return np.squeeze(mfcc.T)if not flatten else np.ravel(mfcc.T)\n",
        "\n",
        "def extract_features(data,sr=22050,frame_length=2048,hop_length=512):\n",
        "    result=np.array([])\n",
        "\n",
        "    result=np.hstack((result,\n",
        "                      zcr(data,frame_length,hop_length),\n",
        "                      rmse(data,frame_length,hop_length),\n",
        "                      mfcc(data,sr,frame_length,hop_length)\n",
        "                     ))\n",
        "    return result"
      ],
      "metadata": {
        "execution": {
          "iopub.status.busy": "2023-07-01T18:32:09.835495Z",
          "iopub.execute_input": "2023-07-01T18:32:09.835927Z",
          "iopub.status.idle": "2023-07-01T18:32:09.849153Z",
          "shell.execute_reply.started": "2023-07-01T18:32:09.835893Z",
          "shell.execute_reply": "2023-07-01T18:32:09.848116Z"
        },
        "trusted": true,
        "id": "dIQhv8Tfhimo"
      },
      "execution_count": null,
      "outputs": []
    },
    {
      "cell_type": "code",
      "source": [
        "def get_predict_feat(path):\n",
        "    d, s_rate= librosa.load(path, duration=2.5, offset=0.6)\n",
        "    res=extract_features(d)\n",
        "    result=np.array(res)\n",
        "    result=np.reshape(result,newshape=(1,2376))\n",
        "    i_result = scaler2.transform(result)\n",
        "    final_result=np.expand_dims(i_result, axis=2)\n",
        "\n",
        "    return final_result"
      ],
      "metadata": {
        "execution": {
          "iopub.status.busy": "2023-07-01T18:32:12.238453Z",
          "iopub.execute_input": "2023-07-01T18:32:12.239326Z",
          "iopub.status.idle": "2023-07-01T18:32:12.246339Z",
          "shell.execute_reply.started": "2023-07-01T18:32:12.239288Z",
          "shell.execute_reply": "2023-07-01T18:32:12.245151Z"
        },
        "trusted": true,
        "id": "fb8rgDYFhimv"
      },
      "execution_count": null,
      "outputs": []
    },
    {
      "cell_type": "code",
      "source": [
        "res=get_predict_feat(\"/kaggle/input/ravdess-emotional-speech-audio/Actor_01/03-01-07-01-01-01-01.wav\")\n",
        "print(res.shape)"
      ],
      "metadata": {
        "execution": {
          "iopub.status.busy": "2023-07-01T18:32:13.946415Z",
          "iopub.execute_input": "2023-07-01T18:32:13.947186Z",
          "iopub.status.idle": "2023-07-01T18:32:14.048298Z",
          "shell.execute_reply.started": "2023-07-01T18:32:13.947146Z",
          "shell.execute_reply": "2023-07-01T18:32:14.047226Z"
        },
        "trusted": true,
        "id": "WGJKfAs_himw"
      },
      "execution_count": null,
      "outputs": []
    },
    {
      "cell_type": "code",
      "source": [
        "emotions1={1:'Neutral', 2:'Calm', 3:'Happy', 4:'Sad', 5:'Angry', 6:'Fear', 7:'Disgust',8:'Surprise'}\n",
        "def prediction(path1):\n",
        "    res=get_predict_feat(path1)\n",
        "    predictions=loaded_model.predict(res)\n",
        "    y_pred = encoder2.inverse_transform(predictions)\n",
        "    print(y_pred[0][0])"
      ],
      "metadata": {
        "execution": {
          "iopub.status.busy": "2023-07-01T18:32:16.801094Z",
          "iopub.execute_input": "2023-07-01T18:32:16.801488Z",
          "iopub.status.idle": "2023-07-01T18:32:16.808781Z",
          "shell.execute_reply.started": "2023-07-01T18:32:16.801453Z",
          "shell.execute_reply": "2023-07-01T18:32:16.807611Z"
        },
        "trusted": true,
        "id": "3Y826KqLhimx"
      },
      "execution_count": null,
      "outputs": []
    },
    {
      "cell_type": "code",
      "source": [
        "prediction(\"/kaggle/input/ravdess-emotional-speech-audio/Actor_02/03-01-01-01-01-01-02.wav\")"
      ],
      "metadata": {
        "execution": {
          "iopub.status.busy": "2023-07-01T18:32:18.648136Z",
          "iopub.execute_input": "2023-07-01T18:32:18.648537Z",
          "iopub.status.idle": "2023-07-01T18:32:18.830837Z",
          "shell.execute_reply.started": "2023-07-01T18:32:18.648504Z",
          "shell.execute_reply": "2023-07-01T18:32:18.829298Z"
        },
        "trusted": true,
        "id": "KMTRpa1mhimy"
      },
      "execution_count": null,
      "outputs": []
    },
    {
      "cell_type": "code",
      "source": [
        "prediction(\"/kaggle/input/ravdess-emotional-speech-audio/Actor_01/03-01-01-01-01-01-01.wav\")"
      ],
      "metadata": {
        "execution": {
          "iopub.status.busy": "2023-07-01T18:07:12.254147Z",
          "iopub.execute_input": "2023-07-01T18:07:12.254549Z",
          "iopub.status.idle": "2023-07-01T18:07:12.449804Z",
          "shell.execute_reply.started": "2023-07-01T18:07:12.254514Z",
          "shell.execute_reply": "2023-07-01T18:07:12.448646Z"
        },
        "trusted": true,
        "id": "FGxFM8fNhimz"
      },
      "execution_count": null,
      "outputs": []
    },
    {
      "cell_type": "code",
      "source": [
        "prediction(\"/kaggle/input/ravdess-emotional-speech-audio/Actor_01/03-01-05-01-02-02-01.wav\")"
      ],
      "metadata": {
        "execution": {
          "iopub.status.busy": "2023-07-01T18:07:15.141216Z",
          "iopub.execute_input": "2023-07-01T18:07:15.141628Z",
          "iopub.status.idle": "2023-07-01T18:07:15.331916Z",
          "shell.execute_reply.started": "2023-07-01T18:07:15.141591Z",
          "shell.execute_reply": "2023-07-01T18:07:15.330471Z"
        },
        "trusted": true,
        "id": "WXXcf0fPhim0"
      },
      "execution_count": null,
      "outputs": []
    },
    {
      "cell_type": "code",
      "source": [
        "prediction(\"/kaggle/input/ravdess-emotional-speech-audio/Actor_21/03-01-04-02-02-02-21.wav\")"
      ],
      "metadata": {
        "execution": {
          "iopub.status.busy": "2023-07-01T18:07:17.923269Z",
          "iopub.execute_input": "2023-07-01T18:07:17.923695Z",
          "iopub.status.idle": "2023-07-01T18:07:18.113777Z",
          "shell.execute_reply.started": "2023-07-01T18:07:17.923659Z",
          "shell.execute_reply": "2023-07-01T18:07:18.11064Z"
        },
        "trusted": true,
        "id": "lnDn0OYLhim1"
      },
      "execution_count": null,
      "outputs": []
    },
    {
      "cell_type": "code",
      "source": [
        "prediction(\"/kaggle/input/ravdess-emotional-speech-audio/Actor_02/03-01-06-01-02-02-02.wav\")"
      ],
      "metadata": {
        "execution": {
          "iopub.status.busy": "2023-07-01T18:07:21.181001Z",
          "iopub.execute_input": "2023-07-01T18:07:21.181416Z",
          "iopub.status.idle": "2023-07-01T18:07:21.384602Z",
          "shell.execute_reply.started": "2023-07-01T18:07:21.181374Z",
          "shell.execute_reply": "2023-07-01T18:07:21.383496Z"
        },
        "trusted": true,
        "id": "aP3vaSLehim1"
      },
      "execution_count": null,
      "outputs": []
    },
    {
      "cell_type": "code",
      "source": [
        "prediction(\"/kaggle/input/ravdess-emotional-speech-audio/Actor_01/03-01-08-01-01-01-01.wav\")"
      ],
      "metadata": {
        "execution": {
          "iopub.status.busy": "2023-07-01T18:31:04.206834Z",
          "iopub.execute_input": "2023-07-01T18:31:04.207307Z",
          "iopub.status.idle": "2023-07-01T18:31:04.403601Z",
          "shell.execute_reply.started": "2023-07-01T18:31:04.207271Z",
          "shell.execute_reply": "2023-07-01T18:31:04.402235Z"
        },
        "trusted": true,
        "id": "sgTtz11dhim2"
      },
      "execution_count": null,
      "outputs": []
    },
    {
      "cell_type": "code",
      "source": [
        "prediction(\"/kaggle/input/ravdess-emotional-speech-audio/Actor_01/03-01-07-01-01-01-01.wav\")"
      ],
      "metadata": {
        "execution": {
          "iopub.status.busy": "2023-07-01T18:31:41.345636Z",
          "iopub.execute_input": "2023-07-01T18:31:41.346289Z",
          "iopub.status.idle": "2023-07-01T18:31:41.539252Z",
          "shell.execute_reply.started": "2023-07-01T18:31:41.346249Z",
          "shell.execute_reply": "2023-07-01T18:31:41.537955Z"
        },
        "trusted": true,
        "id": "ZJpnXqtrhim3"
      },
      "execution_count": null,
      "outputs": []
    }
  ]
}